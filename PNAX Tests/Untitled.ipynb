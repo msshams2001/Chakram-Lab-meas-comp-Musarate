{
 "cells": [
  {
   "cell_type": "code",
   "execution_count": null,
   "id": "a37023be",
   "metadata": {},
   "outputs": [],
   "source": [
    "import sys\n",
    "sys.path.insert(0,\"C:\\\\Program Files\\\\slab-master\\\\\")\n",
    "sys.path.insert(1,\"C:\\\\Users\\\\MeasPC\\\\\")"
   ]
  },
  {
   "cell_type": "code",
   "execution_count": null,
   "id": "2bf2c92a",
   "metadata": {},
   "outputs": [],
   "source": [
    "from slab.instruments import PNAX\n",
    "from slab import SlabFile"
   ]
  },
  {
   "cell_type": "code",
   "execution_count": null,
   "id": "e2506699",
   "metadata": {},
   "outputs": [],
   "source": [
    "pna=PNAX.N5242A(address=\"192.168.0.132\")"
   ]
  },
  {
   "cell_type": "code",
   "execution_count": null,
   "id": "b0a0f8ba",
   "metadata": {},
   "outputs": [],
   "source": [
    "pna.get_id()"
   ]
  },
  {
   "cell_type": "code",
   "execution_count": null,
   "id": "2d4d38c9",
   "metadata": {},
   "outputs": [],
   "source": [
    "def single_tone_CW(read_freq_center,span,read_power = read_power,probe_power=probe_power,ifbw = ifbw, sweep_pts= sweep_pts,avgs=avgs,\n",
    "                   avgs_state=avgs_state,is_qubitdrive= 0,qfreq= 0,measurement=\"S21\"):\n",
    "\n",
    "    nwa.set_timeout(10e5)\n",
    "    nwa.set_ifbw(ifbw)\n",
    "    nwa.set_sweep_points(sweep_pts)\n",
    "    nwa.clear_traces()\n",
    "    nwa.setup_measurement(measurement)\n",
    "    nwa.set_electrical_delay(delay, channel=1)\n",
    "\n",
    "    vary_param = \"single_tone_CW\"\n",
    "    print(\"Swept Parameter: %s\" % (vary_param))\n",
    "    prefix = \"Readout_%s\" % vary_param\n",
    "    fname = get_next_filename(expt_path, prefix, suffix='.h5')\n",
    "    print(fname)\n",
    "    fname = os.path.join(expt_path, fname)\n",
    "\n",
    "    nwa.setup_take(averages=avgs)\n",
    "    nwa.set_average_state(avgs_state)\n",
    "\n",
    "    read_freq_start = read_freq_center - span/2.0\n",
    "    read_freq_stop =  read_freq_center + span/2.0\n",
    "\n",
    "    print (\"Setting up CW parameters\")\n",
    "\n",
    "    nwa.set_ifbw(ifbw)\n",
    "\n",
    "    nwa.write('SENSE:FOM:STATE 1')\n",
    "    nwa.write(\"sense:fom:range2:coupled 1\")\n",
    "    nwa.write(\"sense:fom:range3:coupled 1\")\n",
    "    nwa.write(\"sense:fom:range4:coupled 0\")\n",
    "    nwa.write('SENSE:FOM:RANGE1:FREQUENCY:START %f' % read_freq_start)\n",
    "    nwa.write('SENSE:FOM:RANGE1:FREQUENCY:STOP %f' % read_freq_stop)\n",
    "\n",
    "    nwa.write('SENSE:FOM:RANGE4:FREQUENCY:START %f' % qfreq)\n",
    "    nwa.write('SENSE:FOM:RANGE4:FREQUENCY:STOP %f' % qfreq)\n",
    "    \n",
    "    nwa.write(\":SOURCE:POWER1 %f\" % (read_power))\n",
    "    nwa.write(\":SOURCE1:POWER1:MODE ON\")\n",
    "    print (\"Read power\",read_power)\n",
    "    print (\"Read Now On\")\n",
    "\n",
    "\n",
    "    #setting the port powers and decoupling the powers\n",
    "    if measurement == 'S21':\n",
    "        nwa.write(\":SOURCE:POWER3 %f\" % (probe_power))\n",
    "    if is_qubitdrive:\n",
    "        nwa.write(\":SOURCE1:POWER3:MODE ON\")\n",
    "        print (\"Qubit Drive Now ON\")\n",
    "    else:\n",
    "        nwa.write(\":SOURCE1:POWER3:MODE OFF\")\n",
    "        print (\"Qubit Drive Now Off\")\n",
    "\n",
    "    data = nwa.take_one_in_mag_phase()\n",
    "    fpoints = data[0]\n",
    "    mags = data[1]\n",
    "    phases = data[2]\n",
    "    print (\"finished downloading\")\n",
    "    \n",
    "    with SlabFile(fname) as f:\n",
    "        f.append_line('mags', mags)\n",
    "        f.append_line('phases', phases)\n",
    "        f.append_line('freq', fpoints)\n",
    "        f.append_pt('read_power', read_power)\n",
    "        f.append_pt('probe_power', probe_power)\n",
    "\n",
    "    print (fname)\n"
   ]
  }
 ],
 "metadata": {
  "kernelspec": {
   "display_name": "Python 3 (ipykernel)",
   "language": "python",
   "name": "python3"
  },
  "language_info": {
   "codemirror_mode": {
    "name": "ipython",
    "version": 3
   },
   "file_extension": ".py",
   "mimetype": "text/x-python",
   "name": "python",
   "nbconvert_exporter": "python",
   "pygments_lexer": "ipython3",
   "version": "3.10.6"
  }
 },
 "nbformat": 4,
 "nbformat_minor": 5
}
