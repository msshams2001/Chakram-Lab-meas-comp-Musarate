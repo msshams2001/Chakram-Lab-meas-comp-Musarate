{
 "cells": [
  {
   "cell_type": "code",
   "execution_count": 1,
   "metadata": {},
   "outputs": [],
   "source": [
    "import sys\n",
    "sys.path.insert(0,\"C:\\\\Program Files\\\\slab-master\\\\\")\n",
    "sys.path.insert(1,\"C:\\\\Users\\\\MeasPC\\\\\")"
   ]
  },
  {
   "cell_type": "code",
   "execution_count": 2,
   "metadata": {},
   "outputs": [
    {
     "name": "stdout",
     "output_type": "stream",
     "text": [
      "No module named 'visa'\n",
      "Warning VISA library import failed\n",
      "Warning serial library import failed.\n",
      "Could not load Autonics TM4 Driver\n"
     ]
    }
   ],
   "source": [
    "from slab.instruments import PNAX\n",
    "from slab import SlabFile"
   ]
  },
  {
   "cell_type": "code",
   "execution_count": 3,
   "metadata": {},
   "outputs": [
    {
     "ename": "TimeoutError",
     "evalue": "[Errno 60] Operation timed out",
     "output_type": "error",
     "traceback": [
      "\u001b[0;31m---------------------------------------------------------------------------\u001b[0m",
      "\u001b[0;31mTimeoutError\u001b[0m                              Traceback (most recent call last)",
      "\u001b[0;32m/var/folders/pv/zmcd9d4922s3pqw803w4vtmc0000gn/T/ipykernel_14599/1945115484.py\u001b[0m in \u001b[0;36m<module>\u001b[0;34m\u001b[0m\n\u001b[0;32m----> 1\u001b[0;31m \u001b[0mpna\u001b[0m\u001b[0;34m=\u001b[0m\u001b[0mPNAX\u001b[0m\u001b[0;34m.\u001b[0m\u001b[0mN5242A\u001b[0m\u001b[0;34m(\u001b[0m\u001b[0maddress\u001b[0m\u001b[0;34m=\u001b[0m\u001b[0;34m\"169.254.109.0\"\u001b[0m\u001b[0;34m)\u001b[0m\u001b[0;34m\u001b[0m\u001b[0;34m\u001b[0m\u001b[0m\n\u001b[0m",
      "\u001b[0;32m~/Downloads/slab-master/slab/instruments/PNAX.py\u001b[0m in \u001b[0;36m__init__\u001b[0;34m(self, name, address, enabled, **kwargs)\u001b[0m\n\u001b[1;32m     24\u001b[0m \u001b[0;34m\u001b[0m\u001b[0m\n\u001b[1;32m     25\u001b[0m     \u001b[0;32mdef\u001b[0m \u001b[0m__init__\u001b[0m\u001b[0;34m(\u001b[0m\u001b[0mself\u001b[0m\u001b[0;34m,\u001b[0m \u001b[0mname\u001b[0m\u001b[0;34m=\u001b[0m\u001b[0;34m\"E5071\"\u001b[0m\u001b[0;34m,\u001b[0m \u001b[0maddress\u001b[0m\u001b[0;34m=\u001b[0m\u001b[0;32mNone\u001b[0m\u001b[0;34m,\u001b[0m \u001b[0menabled\u001b[0m\u001b[0;34m=\u001b[0m\u001b[0;32mTrue\u001b[0m\u001b[0;34m,\u001b[0m \u001b[0;34m**\u001b[0m\u001b[0mkwargs\u001b[0m\u001b[0;34m)\u001b[0m\u001b[0;34m:\u001b[0m\u001b[0;34m\u001b[0m\u001b[0;34m\u001b[0m\u001b[0m\n\u001b[0;32m---> 26\u001b[0;31m         \u001b[0mSocketInstrument\u001b[0m\u001b[0;34m.\u001b[0m\u001b[0m__init__\u001b[0m\u001b[0;34m(\u001b[0m\u001b[0mself\u001b[0m\u001b[0;34m,\u001b[0m \u001b[0mname\u001b[0m\u001b[0;34m,\u001b[0m \u001b[0maddress\u001b[0m\u001b[0;34m,\u001b[0m \u001b[0menabled\u001b[0m\u001b[0;34m=\u001b[0m\u001b[0menabled\u001b[0m\u001b[0;34m,\u001b[0m \u001b[0mrecv_length\u001b[0m\u001b[0;34m=\u001b[0m\u001b[0;36m2\u001b[0m \u001b[0;34m**\u001b[0m \u001b[0;36m20\u001b[0m\u001b[0;34m,\u001b[0m \u001b[0;34m**\u001b[0m\u001b[0mkwargs\u001b[0m\u001b[0;34m)\u001b[0m\u001b[0;34m\u001b[0m\u001b[0;34m\u001b[0m\u001b[0m\n\u001b[0m\u001b[1;32m     27\u001b[0m         \u001b[0mself\u001b[0m\u001b[0;34m.\u001b[0m\u001b[0mquery_sleep\u001b[0m \u001b[0;34m=\u001b[0m \u001b[0;36m0.05\u001b[0m\u001b[0;34m\u001b[0m\u001b[0;34m\u001b[0m\u001b[0m\n\u001b[1;32m     28\u001b[0m         \u001b[0mself\u001b[0m\u001b[0;34m.\u001b[0m\u001b[0mtimeout\u001b[0m \u001b[0;34m=\u001b[0m \u001b[0;36m100\u001b[0m\u001b[0;34m\u001b[0m\u001b[0;34m\u001b[0m\u001b[0m\n",
      "\u001b[0;32m~/Downloads/slab-master/slab/instruments/instrumenttypes.py\u001b[0m in \u001b[0;36m__init__\u001b[0;34m(self, name, address, enabled, recv_length, timeout, **kwargs)\u001b[0m\n\u001b[1;32m    167\u001b[0m             \u001b[0mself\u001b[0m\u001b[0;34m.\u001b[0m\u001b[0mip\u001b[0m \u001b[0;34m=\u001b[0m \u001b[0maddress\u001b[0m\u001b[0;34m\u001b[0m\u001b[0;34m\u001b[0m\u001b[0m\n\u001b[1;32m    168\u001b[0m             \u001b[0mself\u001b[0m\u001b[0;34m.\u001b[0m\u001b[0mport\u001b[0m \u001b[0;34m=\u001b[0m \u001b[0mself\u001b[0m\u001b[0;34m.\u001b[0m\u001b[0mdefault_port\u001b[0m\u001b[0;34m\u001b[0m\u001b[0;34m\u001b[0m\u001b[0m\n\u001b[0;32m--> 169\u001b[0;31m         \u001b[0mself\u001b[0m\u001b[0;34m.\u001b[0m\u001b[0mon_enable\u001b[0m\u001b[0;34m(\u001b[0m\u001b[0;34m)\u001b[0m\u001b[0;34m\u001b[0m\u001b[0;34m\u001b[0m\u001b[0m\n\u001b[0m\u001b[1;32m    170\u001b[0m \u001b[0;34m\u001b[0m\u001b[0m\n\u001b[1;32m    171\u001b[0m     \u001b[0;32mdef\u001b[0m \u001b[0mon_enable\u001b[0m\u001b[0;34m(\u001b[0m\u001b[0mself\u001b[0m\u001b[0;34m)\u001b[0m\u001b[0;34m:\u001b[0m\u001b[0;34m\u001b[0m\u001b[0;34m\u001b[0m\u001b[0m\n",
      "\u001b[0;32m~/Downloads/slab-master/slab/instruments/instrumenttypes.py\u001b[0m in \u001b[0;36mon_enable\u001b[0;34m(self)\u001b[0m\n\u001b[1;32m    172\u001b[0m         \u001b[0;32mif\u001b[0m \u001b[0mself\u001b[0m\u001b[0;34m.\u001b[0m\u001b[0menabled\u001b[0m\u001b[0;34m:\u001b[0m\u001b[0;34m\u001b[0m\u001b[0;34m\u001b[0m\u001b[0m\n\u001b[1;32m    173\u001b[0m             \u001b[0mself\u001b[0m\u001b[0;34m.\u001b[0m\u001b[0msocket\u001b[0m \u001b[0;34m=\u001b[0m \u001b[0msocket\u001b[0m\u001b[0;34m.\u001b[0m\u001b[0msocket\u001b[0m\u001b[0;34m(\u001b[0m\u001b[0msocket\u001b[0m\u001b[0;34m.\u001b[0m\u001b[0mAF_INET\u001b[0m\u001b[0;34m,\u001b[0m \u001b[0msocket\u001b[0m\u001b[0;34m.\u001b[0m\u001b[0mSOCK_STREAM\u001b[0m\u001b[0;34m)\u001b[0m\u001b[0;34m\u001b[0m\u001b[0;34m\u001b[0m\u001b[0m\n\u001b[0;32m--> 174\u001b[0;31m             \u001b[0mself\u001b[0m\u001b[0;34m.\u001b[0m\u001b[0msocket\u001b[0m\u001b[0;34m.\u001b[0m\u001b[0mconnect\u001b[0m\u001b[0;34m(\u001b[0m\u001b[0;34m(\u001b[0m\u001b[0mself\u001b[0m\u001b[0;34m.\u001b[0m\u001b[0mip\u001b[0m\u001b[0;34m,\u001b[0m \u001b[0mself\u001b[0m\u001b[0;34m.\u001b[0m\u001b[0mport\u001b[0m\u001b[0;34m)\u001b[0m\u001b[0;34m)\u001b[0m\u001b[0;34m\u001b[0m\u001b[0;34m\u001b[0m\u001b[0m\n\u001b[0m\u001b[1;32m    175\u001b[0m             \u001b[0;31m#self.set_timeout(self.timeout)\u001b[0m\u001b[0;34m\u001b[0m\u001b[0;34m\u001b[0m\u001b[0;34m\u001b[0m\u001b[0m\n\u001b[1;32m    176\u001b[0m             \u001b[0mself\u001b[0m\u001b[0;34m.\u001b[0m\u001b[0msocket\u001b[0m\u001b[0;34m.\u001b[0m\u001b[0msetblocking\u001b[0m\u001b[0;34m(\u001b[0m\u001b[0;36m0\u001b[0m\u001b[0;34m)\u001b[0m\u001b[0;34m\u001b[0m\u001b[0;34m\u001b[0m\u001b[0m\n",
      "\u001b[0;31mTimeoutError\u001b[0m: [Errno 60] Operation timed out"
     ]
    }
   ],
   "source": [
    "pna=PNAX.N5242A(address=\"169.254.109.0\")"
   ]
  },
  {
   "cell_type": "code",
   "execution_count": null,
   "metadata": {},
   "outputs": [],
   "source": []
  },
  {
   "cell_type": "code",
   "execution_count": null,
   "metadata": {},
   "outputs": [],
   "source": [
    "pna.get_id()"
   ]
  },
  {
   "cell_type": "code",
   "execution_count": null,
   "metadata": {
    "scrolled": true
   },
   "outputs": [],
   "source": [
    "import pnax_spectroscopy_py3"
   ]
  },
  {
   "cell_type": "code",
   "execution_count": null,
   "metadata": {},
   "outputs": [],
   "source": [
    "import os\n",
    "os.getcwd()"
   ]
  },
  {
   "cell_type": "code",
   "execution_count": null,
   "metadata": {},
   "outputs": [],
   "source": [
    "from slab import *\n",
    "from slab.datamanagement import SlabFile\n",
    "from numpy import *\n",
    "import os\n",
    "import time\n",
    "from slab.instruments import *\n",
    "from slab.instruments import InstrumentManager\n",
    "\n",
    "im = InstrumentManager()\n",
    "nwa=PNAX.N5242A(address=\"169.254.109.0\")\n",
    "#nwa =  im['PNAX2']\n",
    "print(nwa.get_id())\n",
    "print('Deviced Connected')\n",
    "\n",
    "expt_path = os.getcwd() + '\\data'\n",
    "\n",
    "# initial NWA configuration values\n",
    "ifbw = 1e3\n",
    "read_power = -55\n",
    "probe_power = -10\n",
    "sweep_pts = 1000\n",
    "avgs = 100\n",
    "avgs_state = 1\n",
    "delay = -12.41e-12\n",
    "\n",
    "prefix = \"PNAX_%s_flute cavity\"\n",
    "\n",
    "print(\"Configuring the NWA\")\n",
    "\n",
    "print (\"NWA Configured. IFBW = %f Hz, Read_Power = %f, Drive_Power = %f, NumPts = %d, Avgs = %d \" %(ifbw,read_power,probe_power,sweep_pts,avgs))\n",
    "\n",
    "def single_tone_CW(read_freq_center,span,read_power = read_power,probe_power=probe_power,ifbw = ifbw, sweep_pts= sweep_pts,avgs=avgs,\n",
    "                   avgs_state=avgs_state,is_qubitdrive= 0,qfreq= 0,measurement=\"S21\"):\n",
    "\n",
    "    nwa.set_timeout(10e5)\n",
    "    nwa.set_ifbw(ifbw)\n",
    "    nwa.set_sweep_points(sweep_pts)\n",
    "    nwa.clear_traces()\n",
    "    nwa.setup_measurement(measurement)\n",
    "    nwa.set_electrical_delay(delay, channel=1)\n",
    "\n",
    "    vary_param = \"single_tone_CW\"\n",
    "    print(\"Swept Parameter: %s\" % (vary_param))\n",
    "    prefix = \"Readout_%s\" % vary_param\n",
    "    fname = get_next_filename(expt_path, prefix, suffix='.h5')\n",
    "    print(fname)\n",
    "    fname = os.path.join(expt_path, fname)\n",
    "\n",
    "    nwa.setup_take(averages=avgs)\n",
    "    nwa.set_average_state(avgs_state)\n",
    "\n",
    "    read_freq_start = read_freq_center - span/2.0\n",
    "    read_freq_stop =  read_freq_center + span/2.0\n",
    "\n",
    "    print (\"Setting up CW parameters\")\n",
    "\n",
    "    nwa.set_ifbw(ifbw)\n",
    "\n",
    "    nwa.write('SENSE:FOM:STATE 1')\n",
    "    nwa.write(\"sense:fom:range2:coupled 1\")\n",
    "    nwa.write(\"sense:fom:range3:coupled 1\")\n",
    "    nwa.write(\"sense:fom:range4:coupled 0\")\n",
    "    nwa.write('SENSE:FOM:RANGE1:FREQUENCY:START %f' % read_freq_start)\n",
    "    nwa.write('SENSE:FOM:RANGE1:FREQUENCY:STOP %f' % read_freq_stop)\n",
    "\n",
    "    nwa.write('SENSE:FOM:RANGE4:FREQUENCY:START %f' % qfreq)\n",
    "    nwa.write('SENSE:FOM:RANGE4:FREQUENCY:STOP %f' % qfreq)\n",
    "    \n",
    "    nwa.write(\":SOURCE:POWER1 %f\" % (read_power))\n",
    "    nwa.write(\":SOURCE1:POWER1:MODE ON\")\n",
    "    print (\"Read power\",read_power)\n",
    "    print (\"Read Now On\")\n",
    "\n",
    "\n",
    "    #setting the port powers and decoupling the powers\n",
    "    if measurement == 'S21':\n",
    "        nwa.write(\":SOURCE:POWER3 %f\" % (probe_power))\n",
    "    if is_qubitdrive:\n",
    "        nwa.write(\":SOURCE1:POWER3:MODE ON\")\n",
    "        print (\"Qubit Drive Now ON\")\n",
    "    else:\n",
    "        nwa.write(\":SOURCE1:POWER3:MODE OFF\")\n",
    "        print (\"Qubit Drive Now Off\")\n",
    "\n",
    "    data = nwa.take_one_in_mag_phase()\n",
    "    fpoints = data[0]\n",
    "    mags = data[1]\n",
    "    phases = data[2]\n",
    "    print (\"finished downloading\")\n",
    "    \n",
    "    with SlabFile(fname) as f:\n",
    "        f.append_line('mags', mags)\n",
    "        f.append_line('phases', phases)\n",
    "        f.append_line('freq', fpoints)\n",
    "        f.append_pt('read_power', read_power)\n",
    "        f.append_pt('probe_power', probe_power)\n",
    "\n",
    "    print (fname)\n",
    "\n",
    "def single_tone_power_sweep(read_power_list,read_freq_center,span,ifbw = ifbw, sweep_pts= sweep_pts,avgs=avgs,avgs_state=avgs_state,is_qubitdrive= 0,qfreq= 0,measurement=\"S21\"):\n",
    "\n",
    "    nwa.set_timeout(10E5)\n",
    "    nwa.set_ifbw(ifbw)\n",
    "    nwa.set_sweep_points(sweep_pts)\n",
    "    nwa.clear_traces()\n",
    "    nwa.setup_measurement(measurement)\n",
    "    nwa.set_electrical_delay(delay, channel=1)\n",
    "\n",
    "\n",
    "    vary_param = \"single_tone_CW\"\n",
    "\n",
    "    prefix = \"Single_tone_nearReadoutFreq_Transmission\"\n",
    "    fname = get_next_filename(expt_path, prefix, suffix='.h5')\n",
    "    print(fname)\n",
    "    fname = os.path.join(expt_path, fname)\n",
    "\n",
    "\n",
    "\n",
    "    #setting the port powers and decoupling the powers\n",
    "\n",
    "    for read_power in read_power_list:\n",
    "        nwa.setup_take(averages=avgs)\n",
    "        nwa.set_average_state(avgs_state)\n",
    "\n",
    "        if read_power < -30:\n",
    "            nwa.setup_take(averages=5)\n",
    "        elif read_power < -25:\n",
    "            nwa.setup_take(averages=5)\n",
    "        else:\n",
    "            nwa.setup_take(averages=1)\n",
    "\n",
    "\n",
    "\n",
    "        read_freq_start = read_freq_center - span / 2.0\n",
    "        read_freq_stop = read_freq_center + span / 2.0\n",
    "\n",
    "        print(\"Setting up CW parameters\")\n",
    "\n",
    "        nwa.write('SENSE:FOM:STATE 1')\n",
    "        nwa.write(\"sense:fom:range2:coupled 1\")\n",
    "        nwa.write(\"sense:fom:range3:coupled 1\")\n",
    "        nwa.write(\"sense:fom:range4:coupled 0\")\n",
    "        nwa.write('SENSE:FOM:RANGE1:FREQUENCY:START %f' % read_freq_start)\n",
    "        nwa.write('SENSE:FOM:RANGE1:FREQUENCY:STOP %f' % read_freq_stop)\n",
    "\n",
    "        nwa.write('SENSE:FOM:RANGE4:FREQUENCY:START %f' % qfreq)\n",
    "        nwa.write('SENSE:FOM:RANGE4:FREQUENCY:STOP %f' % qfreq)\n",
    "\n",
    "        # Turning off pulsed aspect of the measurement (just in case it was run before)\n",
    "        # Turning the leveling of the ports to 'Internal'.   'open-loop' is for pulsed\n",
    "        nwa.write(\"source1:power1:alc:mode INTERNAL\")\n",
    "        nwa.write(\"source1:power3:alc:mode INTERNAL\")\n",
    "        # Setting up the proper trigger mode.   Want to trigger on the point\n",
    "        nwa.write(\"TRIG:SOUR EXT\")\n",
    "        nwa.write(\"SENS:SWE:TRIG:MODE POINT\")\n",
    "\n",
    "        # Turning off the \"Reduce IF BW at Low Frequencies\" because the PNA-X adjusts the BW automatically to correct for roll-off at low frequencies\n",
    "        nwa.write(\"SENS:BWID:TRAC ON\")\n",
    "\n",
    "        # turning on the pulses\n",
    "        nwa.write(\"SENS:PULS0 0\")\n",
    "        nwa.write(\"SENS:PULS1 0\")\n",
    "        nwa.write(\"SENS:PULS2 0\")\n",
    "        nwa.write(\"SENS:PULS3 0\")\n",
    "        nwa.write(\"SENS:PULS4 0\")\n",
    "        # turning off the inverting\n",
    "        nwa.write(\"SENS:PULS1:INV 0\")\n",
    "        nwa.write(\"SENS:PULS2:INV 0\")\n",
    "        nwa.write(\"SENS:PULS3:INV 0\")\n",
    "        nwa.write(\"SENS:PULS4:INV 0\")\n",
    "\n",
    "        pnax = nwa\n",
    "        # hacked to include switches\n",
    "        # # turning off the pulses\n",
    "        pnax.write(\"SENS:PULS0 0\")  # automatically sync ADC to pulse gen\n",
    "        pnax.write(\"SENS:PULS1 0\")\n",
    "        pnax.write(\"SENS:PULS2 0\")\n",
    "        pnax.write(\"SENS:PULS3 0\")\n",
    "        pnax.write(\"SENS:PULS4 0\")\n",
    "        # turning on the inverting\n",
    "        pnax.write(\"SENS:PULS1:INV 1\")\n",
    "        pnax.write(\"SENS:PULS2:INV 1\")\n",
    "        pnax.write(\"SENS:PULS3:INV 1\")\n",
    "        pnax.write(\"SENS:PULS4:INV 1\")\n",
    "\n",
    "        nwa.write(\"SOUR:POW:COUP OFF\")\n",
    "        nwa.write(\":SOURCE:POWER1 %f\" % (read_power))\n",
    "        nwa.write(\":SOURCE1:POWER1:MODE ON\")\n",
    "        print (\"Read Now On\")\n",
    "\n",
    "        nwa.write(\":SOURCE1:POWER3:MODE OFF\")\n",
    "        print (\"Qubit Drive Now Off\")\n",
    "\n",
    "        data = nwa.take_one_in_mag_phase()\n",
    "        fpoints = data[0]\n",
    "        mags = data[1]\n",
    "        phases = data[2]\n",
    "        print (\"finished downloading\")\n",
    "\n",
    "\n",
    "        with SlabFile(fname) as f:\n",
    "            f.append_line('mags', mags)\n",
    "            f.append_line('phases', phases)\n",
    "            f.append_line('freq', fpoints)\n",
    "            f.append_pt('read_power', read_power)\n",
    "\n",
    "def two_tone_CW(read_freq,probe_freq_center,span,ifbw = ifbw, read_power = read_power,probe_power = probe_power,sweep_pts= sweep_pts,avgs=avgs,avgs_state=avgs_state):\n",
    "    vary_param = \"twotone_CW\"\n",
    "\n",
    "    print(\"Swept Parameter: %s\" % (vary_param))\n",
    "    prefix = \"%s_\" % vary_param\n",
    "    fname = get_next_filename(expt_path, prefix, suffix='.h5')\n",
    "    print(fname)\n",
    "    fname = os.path.join(expt_path, fname)\n",
    "\n",
    "    rfreq =  read_freq\n",
    "\n",
    "    nwa.set_timeout(10e5)\n",
    "    nwa.set_ifbw(ifbw)\n",
    "    nwa.set_sweep_points(sweep_pts)\n",
    "    nwa.clear_traces()\n",
    "    nwa.setup_measurement(\"S21\")\n",
    "    nwa.set_electrical_delay(delay, channel=1)\n",
    "\n",
    "\n",
    "    nwa.setup_take(averages=avgs)\n",
    "    nwa.set_average_state(avgs_state)\n",
    "\n",
    "    probe_start_freq = probe_freq_center-span/2.0\n",
    "    probe_stop_freq = probe_freq_center+span/2.0\n",
    "#\n",
    "    print (\"Setting up pulsed parameters\")\n",
    "\n",
    "    nwa.set_ifbw(ifbw)\n",
    "\n",
    "    nwa.write('SENSE:FOM:STATE 1')\n",
    "    nwa.write(\"sense:fom:range2:coupled 0\")\n",
    "    nwa.write(\"sense:fom:range3:coupled 0\")\n",
    "    nwa.write(\"sense:fom:range4:coupled 1\")\n",
    "    nwa.write('SENSE:FOM:RANGE1:FREQUENCY:START %f' % probe_start_freq)\n",
    "    nwa.write('SENSE:FOM:RANGE1:FREQUENCY:STOP %f' % probe_stop_freq)\n",
    "\n",
    "    nwa.write('SENSE:FOM:RANGE2:FREQUENCY:START %f' % rfreq)\n",
    "    nwa.write('SENSE:FOM:RANGE2:FREQUENCY:STOP %f' % rfreq)\n",
    "    nwa.write('SENSE:FOM:RANGE3:FREQUENCY:START %f' % rfreq)\n",
    "    nwa.write('SENSE:FOM:RANGE3:FREQUENCY:STOP %f' % rfreq)\n",
    "\n",
    "    print (\"set read freq\")\n",
    "\n",
    "    # setting the port powers and decoupling the powers\n",
    "    nwa.write(\"SOUR:POW:COUP OFF\")\n",
    "\n",
    "    nwa.write(\":SOURCE:POWER1 %f\" % (read_power))\n",
    "    nwa.write(\":SOURCE1:POWER1:MODE ON\")\n",
    "    print (\"Read Now On\")\n",
    "\n",
    "    nwa.write(\":SOURCE:POWER3 %f\" % (probe_power))\n",
    "    nwa.write(\":SOURCE1:POWER3:MODE ON\")\n",
    "    print (\"Qubit Drive Now ON\")\n",
    "\n",
    "    data = nwa.take_one_in_mag_phase()\n",
    "    fpoints = data[0]\n",
    "    mags = data[1]\n",
    "    phases = data[2]\n",
    "    print (\"finished downloading at frequency %.3f GHz\" %(fpoints[0]/10**9))\n",
    "\n",
    "    with SlabFile(fname) as f:\n",
    "        f.append_line('freq', fpoints)\n",
    "        f.append_line('mags', mags)\n",
    "        f.append_line('phases', phases)\n",
    "        f.append_pt('read_power', read_power)\n",
    "        f.append_pt('probe_power', probe_power)\n",
    "    return fname\n",
    "def two_tone_power_sweep(probe_power_list,read_freq,probe_freq_center,span,ifbw = ifbw, read_power = read_power,sweep_pts= sweep_pts,avgs=avgs,avgs_state=avgs_state):\n",
    "    #vary_param = \"qubit_twotone_CW\"\n",
    "\n",
    "   # print(\"Swept Parameter: %s\" % (vary_param))\n",
    "    prefix = \"twotoneVsPowerTransmission\"\n",
    "    fname = get_next_filename(expt_path, prefix, suffix='.h5')\n",
    "    print(fname)\n",
    "    fname = os.path.join(expt_path, fname)\n",
    "\n",
    "    rfreq =  read_freq\n",
    "\n",
    "    nwa.set_timeout(10e5)\n",
    "    nwa.set_ifbw(ifbw)\n",
    "    nwa.set_sweep_points(sweep_pts)\n",
    "    nwa.clear_traces()\n",
    "    nwa.setup_measurement(\"S21\")\n",
    "    nwa.set_electrical_delay(delay, channel=1)\n",
    "    nwa.setup_take(averages=avgs)\n",
    "    nwa.set_average_state(avgs_state)\n",
    "\n",
    "    for probe_power in probe_power_list:\n",
    "        nwa.setup_take(averages=avgs)\n",
    "\n",
    "        probe_start_freq = probe_freq_center-span/2.0\n",
    "        probe_stop_freq = probe_freq_center+span/2.0\n",
    "    #\n",
    "        print (\"Setting up pulsed parameters\")\n",
    "\n",
    "        nwa.set_ifbw(ifbw)\n",
    "\n",
    "        nwa.write('SENSE:FOM:STATE 1')\n",
    "        nwa.write(\"sense:fom:range2:coupled 0\")\n",
    "        nwa.write(\"sense:fom:range3:coupled 0\")\n",
    "        nwa.write(\"sense:fom:range4:coupled 1\")\n",
    "        nwa.write('SENSE:FOM:RANGE1:FREQUENCY:START %f' % probe_start_freq)\n",
    "        nwa.write('SENSE:FOM:RANGE1:FREQUENCY:STOP %f' % probe_stop_freq)\n",
    "\n",
    "        nwa.write('SENSE:FOM:RANGE2:FREQUENCY:START %f' % rfreq)\n",
    "        nwa.write('SENSE:FOM:RANGE2:FREQUENCY:STOP %f' % rfreq)\n",
    "        nwa.write('SENSE:FOM:RANGE3:FREQUENCY:START %f' % rfreq)\n",
    "        nwa.write('SENSE:FOM:RANGE3:FREQUENCY:STOP %f' % rfreq)\n",
    "\n",
    "        print (\"set read freq\")\n",
    "\n",
    "        # Turning off pulsed aspect of the measurement (just in case it was run before)\n",
    "        # Turning the leveling of the ports to 'Internal'.   'open-loop' is for pulsed\n",
    "        nwa.write(\"source1:power1:alc:mode INTERNAL\")\n",
    "        nwa.write(\"source1:power3:alc:mode INTERNAL\")\n",
    "        # Setting up the proper trigger mode.   Want to trigger on the point\n",
    "        nwa.write(\"TRIG:SOUR EXT\")\n",
    "        nwa.write(\"SENS:SWE:TRIG:MODE POINT\")\n",
    "\n",
    "        # Turning off the \"Reduce IF BW at Low Frequencies\" because the PNA-X adjusts the BW automatically to correct for roll-off at low frequencies\n",
    "        nwa.write(\"SENS:BWID:TRAC ON\")\n",
    "\n",
    "        # setting the port powers and decoupling the powers\n",
    "        nwa.write(\"SOUR:POW:COUP OFF\")\n",
    "\n",
    "        nwa.write(\":SOURCE:POWER1 %f\" % (read_power))\n",
    "        nwa.write(\":SOURCE1:POWER1:MODE ON\")\n",
    "        print (\"Read Now On\")\n",
    "\n",
    "        nwa.write(\":SOURCE:POWER3 %f\" % (probe_power))\n",
    "        nwa.write(\":SOURCE1:POWER3:MODE ON\")\n",
    "        print (\"Qubit Drive Now ON\")\n",
    "\n",
    "        data = nwa.take_one_in_mag_phase()\n",
    "        fpoints = data[0]\n",
    "        mags = data[1]\n",
    "        phases = data[2]\n",
    "\n",
    "        print (\"finished downloading at frequency %.3f GHz\" %(fpoints[0]/10**9))\n",
    "\n",
    "        with SlabFile(fname) as f:\n",
    "            f.append_line('freq', fpoints)\n",
    "            f.append_line('mags', mags)\n",
    "            f.append_line('phases', phases)\n",
    "            f.append_pt('read_power', read_power)\n",
    "            f.append_pt('probe_power', probe_power)\n",
    "\n",
    "\n",
    "\n",
    "# read_power_list = arange(-21,5,1)\n",
    "# single_tone_power_sweep(read_power_list,read_freq_center = read_freq,span = 100e6)\n",
    "#\n",
    "# read_freq  =   7.767947746052817e9\n",
    "# single_tone_power_sweep(read_power_list,read_freq_center = read_freq,span = 5e6)\n",
    "#\n",
    "#\n",
    "# single_tone_CW(read_freq, 6.17e6, measurement=\"S21\",is_qubitdrive=False,qfreq = 3.810241016669044e9)\n",
    "\n",
    "\n",
    "\n",
    "# two_tone_CW(read_freq,probe_freq_center=6.6e9, span =  2.4e9)\n",
    "# two_tone_power_sweep(probe_power_list = arange(-55,0,1),read_freq=read_freq,probe_freq_center=6.0e9,span=2.2e9)"
   ]
  },
  {
   "cell_type": "code",
   "execution_count": null,
   "metadata": {
    "scrolled": true
   },
   "outputs": [],
   "source": [
    "ts = []\n",
    "for i in range(50):\n",
    "    ts.append(time.time())\n",
    "    print(\"elapsed time {:0.1f}\".format(ts[i]-ts[0]))\n",
    "#     read_freq  =  7.24e9\n",
    "    single_tone_CW(read_freq, 1e6,read_power=-40, avgs=1,ifbw = 300,measurement=\"S21\",is_qubitdrive=False,qfreq = 4.865e9)\n",
    "    single_tone_CW(read_freq, 1e6,read_power=-40, avgs=1,ifbw = 300,measurement=\"S21\",is_qubitdrive=True,qfreq = 4.865e9)\n",
    "#     two_tone_CW(read_freq,probe_freq_center=4.265e9, span =20e6,read_power=-40,probe_power=-25,sweep_pts=1000)\n",
    "#     time.sleep(20)\n"
   ]
  },
  {
   "cell_type": "code",
   "execution_count": null,
   "metadata": {
    "scrolled": true
   },
   "outputs": [],
   "source": [
    "mags_all=[]\n",
    "for i in range(27+1,42,2):\n",
    "    filename = \"D:\\\\OneDriveGershenson-lab\\\\Rutgers University\\\\GERSHENSON LAB - Documents\\\\OurData\\\\measMW\\\\T178\\\\data\\\\000\"+str(i)+\"_Readout_single_tone_CW.h5\"\n",
    "\n",
    "    with h5py.File(filename, 'r') as f:\n",
    "        mags = f['mags']\n",
    "        freqs = f['freq']\n",
    "        phases = f['phases']\n",
    "        read_power=f['read_power']\n",
    "        mags=np.array(mags[:]).flatten()\n",
    "        phases=np.array(phases[:]).flatten()\n",
    "        freqs=np.array(freqs[:]).flatten()\n",
    "#         for key in f.keys():\n",
    "#             print(key)\n",
    "            \n",
    "    mags_all.append(mags)\n",
    "ts=np.array(ts)\n",
    "plt.pcolormesh(freqs,(ts-ts[0])/3600,np.array(mags_all))\n",
    "\n",
    "plt.show()\n",
    "# plt.plot(freqs,np.mean(mags_all,axis=0))\n",
    "# plt.plot(freqs,mags_all[15])\n",
    "# plt.plot(freqs,mags_all[1])\n"
   ]
  },
  {
   "cell_type": "code",
   "execution_count": null,
   "metadata": {},
   "outputs": [],
   "source": [
    "filename = \"D:\\\\OneDriveGershenson-lab\\\\Rutgers University\\\\GERSHENSON LAB - Documents\\\\OurData\\\\measMW\\\\T172\\\\data\\\\scan_53_89.h5\"\n",
    "with SlabFile(filename) as f:\n",
    "    f.append_line('times', ts)"
   ]
  },
  {
   "cell_type": "code",
   "execution_count": null,
   "metadata": {},
   "outputs": [],
   "source": [
    "import h5py\n",
    "\n",
    "\n",
    "# h5 = h5py.File(filename,'r')\n",
    "\n",
    "# print(h5)\n",
    "\n",
    "# h5.close()"
   ]
  },
  {
   "cell_type": "code",
   "execution_count": null,
   "metadata": {
    "scrolled": true
   },
   "outputs": [],
   "source": [
    "read_freq=7.238e9\n",
    "# read_freq=7.192e9\n",
    "\n",
    "# probe_power=-25\n",
    "single_tone_CW(read_freq, 200e6,read_power=-40, avgs=10,ifbw = 1000,probe_power=-35,measurement=\"S21\",is_qubitdrive=False,qfreq = 4.44e9)"
   ]
  },
  {
   "cell_type": "code",
   "execution_count": null,
   "metadata": {
    "scrolled": true
   },
   "outputs": [],
   "source": [
    "read_power_list = arange(-50,0,5)\n",
    "single_tone_power_sweep(read_power_list,read_freq_center=read_freq, span=5e6, avgs=10,ifbw = 1000,measurement=\"S21\",is_qubitdrive=False,qfreq = 4.44e9)"
   ]
  },
  {
   "cell_type": "code",
   "execution_count": null,
   "metadata": {},
   "outputs": [],
   "source": [
    "filename = \"D:\\\\OneDriveGershenson-lab\\\\Rutgers University\\\\GERSHENSON LAB - Documents\\\\OurData\\\\measMW\\\\T187\\\\data\\\\00010_Single_tone_nearReadoutFreq_Transmission.h5\"\n",
    "\n",
    "with h5py.File(filename, 'r') as f:\n",
    "    mags = f['mags']\n",
    "    freqs = f['freq']\n",
    "    phases = f['phases']\n",
    "    read_power=f['read_power']\n",
    "    read_power=np.array(read_power[:]).flatten()\n",
    "    mags=np.array(mags[:])\n",
    "    phases=np.array(phases[:]).flatten()\n",
    "    freqs=np.array(freqs[0,:]).flatten()\n",
    "    for key in f.keys():\n",
    "        print(key)\n",
    "        \n",
    "plt.pcolormesh(freqs,read_power,mags)\n",
    "plt.show()\n",
    "for i in range(len(read_power)):\n",
    "    plt.plot(freqs,mags[i])"
   ]
  },
  {
   "cell_type": "code",
   "execution_count": null,
   "metadata": {},
   "outputs": [],
   "source": [
    "    plt.plot(freqs,mags[0])\n",
    "    plt.plot(freqs,mags[-1])\n",
    "    print(freqs[np.argmax(mags[0])])"
   ]
  },
  {
   "cell_type": "code",
   "execution_count": null,
   "metadata": {},
   "outputs": [],
   "source": [
    "filename = \"D:\\\\OneDriveGershenson-lab\\\\Rutgers University\\\\GERSHENSON LAB - Documents\\\\OurData\\\\measMW\\\\T187\\\\data\\\\00004_Readout_single_tone_CW.h5\"\n",
    "\n",
    "with h5py.File(filename, 'r') as f:\n",
    "    mags = f['mags']\n",
    "    freqs = f['freq']\n",
    "    phases = f['phases']\n",
    "    read_power=f['read_power']\n",
    "    mags=np.array(mags[:]).flatten()\n",
    "    phases=np.array(phases[:]).flatten()\n",
    "    freqs=np.array(freqs[:]).flatten()\n",
    "    for key in f.keys():\n",
    "        print(key)\n",
    "f,ax=plt.subplots()\n",
    "print(read_power)\n",
    "ax.plot(freqs,mags,'-')\n",
    "print(freqs[np.argmax(mags)])"
   ]
  },
  {
   "cell_type": "code",
   "execution_count": null,
   "metadata": {},
   "outputs": [],
   "source": [
    "read_freq=7239501501\n",
    "# read_freq=7.2385e9\n",
    "filename=two_tone_CW(read_freq,probe_freq_center=3.91e9, span =100e6,read_power=-40,probe_power=-10,sweep_pts=1000,avgs=5,ifbw=300)\n",
    "print(filename)\n",
    "# filename = \"D:\\\\OneDriveGershenson-lab\\\\Rutgers University\\\\GERSHENSON LAB - Documents\\\\OurData\\\\measMW\\\\PNAX\\\\data\\\\00069_twotone_CW_.h5\"\n",
    "with h5py.File(filename, 'r') as f:\n",
    "    mags = f['mags']\n",
    "    freqs = f['freq']\n",
    "    phases = f['phases']\n",
    "    mags=np.array(mags[:]).flatten()\n",
    "    phases=np.array(phases[:]).flatten()\n",
    "    freqs=np.array(freqs[:]).flatten()\n",
    "    for key in f.keys():\n",
    "        print(key)\n",
    "fig = plt.figure(figsize = (10,5))\n",
    "ax = fig.add_subplot(111)\n",
    "\n",
    "ax.plot(freqs,mags,'-')"
   ]
  },
  {
   "cell_type": "code",
   "execution_count": null,
   "metadata": {},
   "outputs": [],
   "source": [
    "plt.plot(freqs,mags,'-')"
   ]
  },
  {
   "cell_type": "code",
   "execution_count": null,
   "metadata": {},
   "outputs": [],
   "source": [
    "from qcodes.instrument.base import Instrument\n",
    "\n",
    "Instrument.close_all()"
   ]
  },
  {
   "cell_type": "code",
   "execution_count": null,
   "metadata": {},
   "outputs": [],
   "source": [
    "from qcodes.instrument_drivers.Lakeshore.Model_372 import Model_372\n",
    "LS370 = Model_372(name = 'LS370inputCh', address = 'GPIB::12::INSTR', terminator='\\n')\n",
    "T6 = LS370.ch06.temperature\n",
    "T6.get()\n"
   ]
  },
  {
   "cell_type": "code",
   "execution_count": null,
   "metadata": {},
   "outputs": [],
   "source": [
    "LS370.analog_heater.outmode"
   ]
  },
  {
   "cell_type": "code",
   "execution_count": null,
   "metadata": {},
   "outputs": [],
   "source": [
    "LS370.analog_heater.polarity.set('unipolar')"
   ]
  },
  {
   "cell_type": "code",
   "execution_count": null,
   "metadata": {},
   "outputs": [],
   "source": []
  },
  {
   "cell_type": "code",
   "execution_count": null,
   "metadata": {
    "scrolled": true
   },
   "outputs": [],
   "source": [
    "ts = []\n",
    "temps=[]\n",
    "filenames=[]\n",
    "for i in range(100):\n",
    "    ts.append(time.time())\n",
    "#     temps.append(T6.get())\n",
    "    print(\"elapsed time {:0.1f}\".format(ts[i]-ts[0]))\n",
    "    filename=two_tone_CW(read_freq,probe_freq_center=3.88e9, span =100e6,read_power=-45,probe_power=-12,sweep_pts=1000,avgs=5,ifbw=300)\n",
    "    filenames.append(filename)\n",
    "    time.sleep(1)\n"
   ]
  },
  {
   "cell_type": "code",
   "execution_count": null,
   "metadata": {
    "scrolled": false
   },
   "outputs": [],
   "source": [
    "#46 to 107 25 mK\n",
    "\n",
    "mags_all=[]\n",
    "t_set=range(46,107,1)\n",
    "# for i in range(2,8,1):\n",
    "# for i in range(8,24,1):\n",
    "for i in range(46,107,1):\n",
    "\n",
    "    filename = \"D:\\\\OneDriveGershenson-lab\\\\Rutgers University\\\\GERSHENSON LAB - Documents\\\\OurData\\\\measMW\\\\T187\\\\data\\\\00\"+f\"{i:03}\"+\"_twotone_CW_.h5\"\n",
    "\n",
    "    with h5py.File(filename, 'r') as f:\n",
    "        mags = f['mags']\n",
    "        freqs = f['freq']\n",
    "        phases = f['phases']\n",
    "        read_power=f['read_power']\n",
    "        mags=np.array(mags[:]).flatten()\n",
    "        phases=np.array(phases[:]).flatten()\n",
    "        freqs=np.array(freqs[:]).flatten()\n",
    "#         for key in f.keys():\n",
    "#             print(key)\n",
    "            \n",
    "    mags_all.append(mags)\n",
    "# ts=np.array(ts)\n",
    "plt.pcolormesh(freqs,t_set,np.array(mags_all))\n",
    "plt.show()"
   ]
  },
  {
   "cell_type": "code",
   "execution_count": null,
   "metadata": {},
   "outputs": [],
   "source": [
    "plt.plot(freqs,np.mean(np.array(mags_all),axis=0))"
   ]
  },
  {
   "cell_type": "code",
   "execution_count": null,
   "metadata": {},
   "outputs": [],
   "source": [
    "mags_all=[]\n",
    "# for i in range(179,184,1):\n",
    "# for i in range(184,191,1):\n",
    "# for i in range(2,8,1):\n",
    "for i in range(714,735,1):\n",
    "\n",
    "    filename = \"D:\\\\OneDriveGershenson-lab\\\\Rutgers University\\\\GERSHENSON LAB - Documents\\\\OurData\\\\measMW\\\\T187\\\\data\\\\00\"+f\"{i:03}\"+\"_twotone_CW_.h5\"\n",
    "\n",
    "    with h5py.File(filename, 'r') as f:\n",
    "        mags = f['mags']\n",
    "        freqs = f['freq']\n",
    "        phases = f['phases']\n",
    "        read_power=f['read_power']\n",
    "        mags=np.array(mags[:]).flatten()\n",
    "        phases=np.array(phases[:]).flatten()\n",
    "        freqs=np.array(freqs[:]).flatten()\n",
    "#         for key in f.keys():\n",
    "#             print(key)\n",
    "            \n",
    "    mags_all.append(mags)\n",
    "ts=np.array(ts)\n",
    "print(ts)\n",
    "plt.pcolormesh(freqs,ts,np.array(mags_all))\n",
    "plt.show()"
   ]
  },
  {
   "cell_type": "code",
   "execution_count": null,
   "metadata": {},
   "outputs": [],
   "source": [
    "plt.plot(freqs,np.mean(np.array(mags_all),axis=0))"
   ]
  },
  {
   "cell_type": "code",
   "execution_count": null,
   "metadata": {
    "scrolled": true
   },
   "outputs": [],
   "source": [
    "mags_all=[]\n",
    "# for i in range(179,184,1):\n",
    "# for i in range(184,191,1):\n",
    "# for i in range(2,8,1):\n",
    "for i in range(143,643,1):\n",
    "\n",
    "    filename = \"D:\\\\OneDriveGershenson-lab\\\\Rutgers University\\\\GERSHENSON LAB - Documents\\\\OurData\\\\measMW\\\\T187\\\\data\\\\00\"+f\"{i:03}\"+\"_twotone_CW_.h5\"\n",
    "\n",
    "    with h5py.File(filename, 'r') as f:\n",
    "        mags = f['mags']\n",
    "        freqs = f['freq']\n",
    "        phases = f['phases']\n",
    "        read_power=f['read_power']\n",
    "        mags=np.array(mags[:]).flatten()\n",
    "        phases=np.array(phases[:]).flatten()\n",
    "        freqs=np.array(freqs[:]).flatten()\n",
    "#         for key in f.keys():\n",
    "#             print(key)\n",
    "            \n",
    "    mags_all.append(mags)\n",
    "ts=np.array(ts)\n",
    "print(ts)\n",
    "plt.pcolormesh(freqs,ts,np.array(mags_all))\n",
    "plt.show()\n"
   ]
  },
  {
   "cell_type": "code",
   "execution_count": null,
   "metadata": {},
   "outputs": [],
   "source": [
    "plt.plot(freqs,np.mean(np.array(mags_all),axis=0))"
   ]
  },
  {
   "cell_type": "code",
   "execution_count": null,
   "metadata": {},
   "outputs": [],
   "source": [
    "two_tone_power_sweep(probe_power_list=np.arange(-10,10,2),read_freq=read_freq,probe_freq_center=5.72e9, span =100e6,read_power=-40,sweep_pts=1000,avgs=10,ifbw=300)"
   ]
  },
  {
   "cell_type": "code",
   "execution_count": null,
   "metadata": {},
   "outputs": [],
   "source": [
    "np.arange(-20,-5,2)"
   ]
  },
  {
   "cell_type": "code",
   "execution_count": null,
   "metadata": {},
   "outputs": [],
   "source": [
    "filename = \"D:\\\\OneDriveGershenson-lab\\\\Rutgers University\\\\GERSHENSON LAB - Documents\\\\OurData\\\\measMW\\\\T182\\\\data\\\\00003_twotoneVsPowerTransmission.h5\"\n",
    "\n",
    "with h5py.File(filename, 'r') as f:\n",
    "    mags = f['mags']\n",
    "    freqs = f['freq']\n",
    "    phases = f['phases']\n",
    "    probe_power=f['probe_power']\n",
    "    probe_power=np.array(probe_power[:]).flatten()\n",
    "    mags=np.array(mags[:])\n",
    "    phases=np.array(phases[:]).flatten()\n",
    "    freqs=np.array(freqs[0,:]).flatten()\n",
    "    for key in f.keys():\n",
    "        print(key)"
   ]
  },
  {
   "cell_type": "code",
   "execution_count": null,
   "metadata": {},
   "outputs": [],
   "source": [
    "plt.pcolormesh(freqs,probe_power,mags)"
   ]
  },
  {
   "cell_type": "code",
   "execution_count": null,
   "metadata": {},
   "outputs": [],
   "source": [
    "avec=probe_power\n",
    "fvec=freqs\n",
    "mag=10**(mags/20)\n",
    "Qfaclst=[]\n",
    "linewidth=[]\n",
    "reslst=[]\n",
    "f,ax=plt.subplots()\n",
    "for i in range(len(avec)):\n",
    "    p = fitlor(fvec,-mag[i],showfit=False)\n",
    "    ax.plot(fvec,-lorfunc(p,fvec),'r-',alpha=1)\n",
    "    ax.plot(fvec,mag[i])\n",
    "\n",
    "    nu_res = p[2]\n",
    "    Qfac = nu_res/p[3]/2\n",
    "    Qfaclst=np.append(Qfaclst,Qfac)\n",
    "    linewidth=np.append(linewidth,p[3])\n",
    "    reslst=np.append(reslst,nu_res)\n",
    "    \n",
    "\n",
    "#plt.xlim(149.6e6,150e6)"
   ]
  },
  {
   "cell_type": "code",
   "execution_count": null,
   "metadata": {},
   "outputs": [],
   "source": [
    "f,ax=plt.subplots()\n",
    "\n",
    "ax.plot(avec[1:],reslst[1:],'x')\n",
    "print('dispersion= ',np.max(reslst)-np.min(reslst[1:]))"
   ]
  },
  {
   "cell_type": "code",
   "execution_count": null,
   "metadata": {},
   "outputs": [],
   "source": [
    "f,ax=plt.subplots()\n",
    "\n",
    "#ax.plot(avec,Qfaclst,'x')\n",
    "ax.plot(avec[1:],2*linewidth[1:]/1e6,'x')\n",
    "\n",
    "# ax.set_xscale('log')\n",
    "# ax.set_yscale('log')\n",
    "\n",
    "ax.set_xlabel('amplitude of 2nd tone (14dBm)',size=16)\n",
    "ax.set_ylabel('line width (MHz)',size=16)"
   ]
  },
  {
   "cell_type": "code",
   "execution_count": null,
   "metadata": {},
   "outputs": [],
   "source": [
    "from slab.dsfit import*"
   ]
  },
  {
   "cell_type": "code",
   "execution_count": null,
   "metadata": {},
   "outputs": [],
   "source": [
    "filename = \"D:\\\\OneDriveGershenson-lab\\\\Rutgers University\\\\GERSHENSON LAB - Documents\\\\OurData\\\\measMW\\\\PNAX\\\\data\\\\00064_twotone_CW_.h5\"\n",
    "\n",
    "with h5py.File(filename, 'r') as f:\n",
    "    mags = f['mags']\n",
    "    freqs = f['freq']\n",
    "    phases = f['phases']\n",
    "    mags=np.array(mags[:]).flatten()\n",
    "    phases=np.array(phases[:]).flatten()\n",
    "    freqs=np.array(freqs[:]).flatten()\n",
    "    for key in f.keys():\n",
    "        print(key)"
   ]
  },
  {
   "cell_type": "code",
   "execution_count": null,
   "metadata": {},
   "outputs": [],
   "source": [
    "fig = plt.figure(figsize = (10,5))\n",
    "ax = fig.add_subplot(111)\n",
    "\n",
    "ax.plot(freqs,mags,'-')"
   ]
  },
  {
   "cell_type": "code",
   "execution_count": null,
   "metadata": {},
   "outputs": [],
   "source": [
    "fig = plt.figure(figsize = (10,5))\n",
    "ax = fig.add_subplot(111)\n",
    "\n",
    "ax.plot(freqs,mags,'-')"
   ]
  },
  {
   "cell_type": "code",
   "execution_count": null,
   "metadata": {},
   "outputs": [],
   "source": [
    "fig = plt.figure(figsize = (10,5))\n",
    "ax = fig.add_subplot(111)\n",
    "\n",
    "ax.plot(freqs,mags,'-')"
   ]
  },
  {
   "cell_type": "code",
   "execution_count": null,
   "metadata": {},
   "outputs": [],
   "source": [
    "from slab.dsfit import *"
   ]
  },
  {
   "cell_type": "code",
   "execution_count": null,
   "metadata": {},
   "outputs": [],
   "source": [
    "f,ax=plt.subplots()\n",
    "p = fitlor(freqs,10**(-mags/np.max(mags)),showfit=True)\n",
    "# ax.plot(freqs,-lorfunc(p,freqs),'r-')\n",
    "# ax.plot(freqs,-20**(-mags/np.max(mags)))\n",
    "\n",
    "nu_res = p[2]\n",
    "Qfac = nu_res/p[3]/2\n",
    "print(Qfac)"
   ]
  },
  {
   "cell_type": "code",
   "execution_count": null,
   "metadata": {},
   "outputs": [],
   "source": [
    "plt.plot(20**(-mags/np.max(mags)),np.abs(phases))"
   ]
  },
  {
   "cell_type": "code",
   "execution_count": null,
   "metadata": {},
   "outputs": [],
   "source": [
    "nu_res"
   ]
  },
  {
   "cell_type": "code",
   "execution_count": null,
   "metadata": {},
   "outputs": [],
   "source": [
    "Qfac"
   ]
  },
  {
   "cell_type": "code",
   "execution_count": null,
   "metadata": {},
   "outputs": [],
   "source": [
    "np.max(mags)"
   ]
  },
  {
   "cell_type": "code",
   "execution_count": null,
   "metadata": {},
   "outputs": [],
   "source": []
  },
  {
   "cell_type": "code",
   "execution_count": null,
   "metadata": {},
   "outputs": [],
   "source": []
  }
 ],
 "metadata": {
  "kernelspec": {
   "display_name": "Python 3 (ipykernel)",
   "language": "python",
   "name": "python3"
  },
  "language_info": {
   "codemirror_mode": {
    "name": "ipython",
    "version": 3
   },
   "file_extension": ".py",
   "mimetype": "text/x-python",
   "name": "python",
   "nbconvert_exporter": "python",
   "pygments_lexer": "ipython3",
   "version": "3.8.5"
  },
  "toc": {
   "base_numbering": 1,
   "nav_menu": {
    "height": "578.167px",
    "width": "802.167px"
   },
   "number_sections": true,
   "sideBar": false,
   "skip_h1_title": false,
   "title_cell": "Table of Contents",
   "title_sidebar": "Contents",
   "toc_cell": false,
   "toc_position": {},
   "toc_section_display": true,
   "toc_window_display": false
  }
 },
 "nbformat": 4,
 "nbformat_minor": 4
}
